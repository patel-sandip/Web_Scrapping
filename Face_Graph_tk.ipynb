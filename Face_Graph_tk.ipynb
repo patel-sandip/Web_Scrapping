{
 "cells": [
  {
   "cell_type": "code",
   "execution_count": 58,
   "metadata": {},
   "outputs": [],
   "source": [
    "#generated token and id from developers.facebook.com\n",
    "# token of my profile = EAAHFnDWM6S8BAPJsi0e3bruszNahKZAZCOsc90khsQyXUPTMfJdOVKpkMSnwNOy3hYcerViq3QAflpybdP5bdHo6WnB3eZC2TZA1NNfawh1UEAw4RaZCOvg2BQ9nOAZBwqmSdF1ExiuZBxlNY2S4wZAClgOxR3RZBPEMZCCUiHfhMoKodk8v3kFlLyV4ZAEFeZAeqOc47XbTp6s71gZDZD\n",
    "# my_id=\n",
    "token=\"EAAHFnDWM6S8BAOqyrTlUQUCZBnvMbgeZCfnA0igGjreZCiRJzAmsMUZCMv4TZAIsQmZCSZCRbcKYIgK3bf66wvzE2k3J6rcRDuvs24FeK8jsO9pigCrW4XMMACAfMXosql5yZALeSq8GxwvhjWKx7P0ZC4SAmmVWKmOXIt9aBTMm7RId5dKruCdZAkG0c2zFcqUx7oIbWAPkK6CwZDZD\"\n",
    "user_id=\"1115679395296991\"\n",
    "import requests"
   ]
  },
  {
   "cell_type": "code",
   "execution_count": 59,
   "metadata": {},
   "outputs": [],
   "source": [
    "from tkinter import *\n",
    "\n",
    "import json\n",
    "root = Tk()\n",
    "\n",
    "# token=\"\"\n",
    "# user_id=\"\"\n",
    "home_town_text=\"\"\n",
    "name_text=\"\"\n",
    "friends_count=\"\"\n",
    "birthday_text=\"\"\n",
    "gender_text=\"\"\n",
    "email_text=\"\"\n",
    "location=\"\"\n",
    "#urls\n",
    "def feature_extract():\n",
    "    name='https://graph.facebook.com/'+user_id+'?fields=name&access_token='+token\n",
    "    home_town='https://graph.facebook.com/'+user_id+'?fields=hometown&access_token='+token\n",
    "    friends='https://graph.facebook.com/'+user_id+'?fields=friends&access_token='+token\n",
    "    birthday=\"https://graph.facebook.com/v4.0/\"+user_id+\"?fields=birthday&access_token=\"+token\n",
    "    gender=\"https://graph.facebook.com/v4.0/\"+user_id+\"?fields=gender&access_token=\"+token\n",
    "    # age_range=\"https://graph.facebook.com/v4.0/\"+user_id+\"?fields=user_age_range&access_token=\"+token\n",
    "    email=\"https://graph.facebook.com/v4.0/\"+user_id+\"?fields=email&access_token=\"+token\n",
    "    location=\"https://graph.facebook.com/v4.0/\"+user_id+\"?fields=location&access_token=\"+token\n",
    "    # likes='https://graph.facebook.com/'+user_id+'?fields=status&access_token='+token\n",
    "    # =\"https://graph.facebook.com/v4.0/\"+user_id+\"?fields=gender&access_token=\"+token\n",
    "    # =\"https://graph.facebook.com/v4.0/\"+user_id+\"?fields=gender&access_token=\"+token\n",
    "\n",
    "\n",
    "\n",
    "    home_town_json=requests.get(home_town)\n",
    "    name_json=requests.get(name)\n",
    "    friends_json=requests.get(friends)\n",
    "    birthday_json=requests.get(birthday)\n",
    "    gender_json=requests.get(gender)\n",
    "#     age_range_text=requests.get(age_range).json()\n",
    "    email_json=requests.get(email)\n",
    "    location_text=request.get(location).json()['locatoin']['name']\n",
    "\n",
    "\n",
    "    home_town_dict=home_town_json.json()\n",
    "    name_dict=name_json.json()\n",
    "    friends_dict=friends_json.json()\n",
    "    birthday_dict=birthday_json.json()\n",
    "    gender_dict=gender_json.json()\n",
    "    email_dict=email_json.json()\n",
    "    global home_town_text\n",
    "    global name_text\n",
    "    global friends_count\n",
    "    global birthday_text\n",
    "    global email_text\n",
    "    global gender_text\n",
    "#     print(home_town_dict)\n",
    "    home_town_text=home_town_dict['hometown']['name']\n",
    "    name_text=name_dict['name']\n",
    "    friends_count=friends_dict['friends']['summary']['total_count']\n",
    "    birthday_text=birthday_dict['birthday']\n",
    "    gender_text=gender_dict['gender']\n",
    "    email_text=email_dict['email']\n",
    "    print(location)\n",
    "\n",
    "#     return home_town_text+name_text\n",
    "#     print(\"name : %s\"%name_text)\n",
    "#     print(\"email :\",email_text)\n",
    "#     print(\"gender : %s\"%gender_text)\n",
    "#     print(\"birthday : %s\"%birthday_text)\n",
    "#     print(\"hometown : %s\"%home_town_text)\n",
    "#     print(\"No.of friends : %s\"%friends_count)\n"
   ]
  },
  {
   "cell_type": "code",
   "execution_count": null,
   "metadata": {},
   "outputs": [],
   "source": [
    "\n",
    "e1 = Entry(root)\n",
    "e2 = Entry(root)\n",
    "l = Label(root)\n",
    "def callback():\n",
    "#     total = sum(int(e.get()) for e in (e1, e2))\n",
    "#     token=e1.get()\n",
    "#     user_id=e2.get()\n",
    "    feature_extract()\n",
    "    global home_town_text\n",
    "    global name_text\n",
    "    global friends_count\n",
    "    global birthday_text\n",
    "    global email_text\n",
    "    global gender_text\n",
    "    l.config(text=\"Name: {}\\nEmail: {}\\nGender: {}\\nFriends: {}\\nBirthday: {}\\nHomeTown: {}\".format(name_text,email_text,gender_text,friends_count,birthday_text,home_town_text))\n",
    "b = Button(root, text=\"OK\", command=callback)\n",
    "for widget in (e1, e2, l, b):\n",
    "    widget.pack()\n",
    "b.mainloop()"
   ]
  },
  {
   "cell_type": "code",
   "execution_count": 31,
   "metadata": {},
   "outputs": [
    {
     "ename": "NameError",
     "evalue": "name 'location' is not defined",
     "output_type": "error",
     "traceback": [
      "\u001b[0;31m---------------------------------------------------------------------------\u001b[0m",
      "\u001b[0;31mNameError\u001b[0m                                 Traceback (most recent call last)",
      "\u001b[0;32m<ipython-input-31-3093cc981a1b>\u001b[0m in \u001b[0;36m<module>\u001b[0;34m\u001b[0m\n\u001b[0;32m----> 1\u001b[0;31m \u001b[0mlocation\u001b[0m\u001b[0;34m\u001b[0m\u001b[0;34m\u001b[0m\u001b[0m\n\u001b[0m",
      "\u001b[0;31mNameError\u001b[0m: name 'location' is not defined"
     ]
    }
   ],
   "source": [
    "location"
   ]
  },
  {
   "cell_type": "code",
   "execution_count": null,
   "metadata": {},
   "outputs": [],
   "source": []
  }
 ],
 "metadata": {
  "kernelspec": {
   "display_name": "Python 3",
   "language": "python",
   "name": "python3"
  },
  "language_info": {
   "codemirror_mode": {
    "name": "ipython",
    "version": 3
   },
   "file_extension": ".py",
   "mimetype": "text/x-python",
   "name": "python",
   "nbconvert_exporter": "python",
   "pygments_lexer": "ipython3",
   "version": "3.7.3"
  }
 },
 "nbformat": 4,
 "nbformat_minor": 2
}
