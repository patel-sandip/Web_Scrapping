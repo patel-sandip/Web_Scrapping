{
 "cells": [
  {
   "cell_type": "code",
   "execution_count": 159,
   "metadata": {},
   "outputs": [],
   "source": [
    "#generated token and id from developers.facebook.com\n",
    "\n",
    "token='EAAHFnDWM6S8BAPJsi0e3bruszNahKZAZCOsc90khsQyXUPTMfJdOVKpkMSnwNOy3hYcerViq3QAflpybdP5bdHo6WnB3eZC2TZA1NNfawh1UEAw4RaZCOvg2BQ9nOAZBwqmSdF1ExiuZBxlNY2S4wZAClgOxR3RZBPEMZCCUiHfhMoKodk8v3kFlLyV4ZAEFeZAeqOc47XbTp6s71gZDZD'\n",
    "user_id='1115679395296991'"
   ]
  },
  {
   "cell_type": "code",
   "execution_count": 160,
   "metadata": {},
   "outputs": [],
   "source": [
    "#urls\n",
    "\n",
    "name='https://graph.facebook.com/'+user_id+'?fields=name&access_token='+token\n",
    "home_town='https://graph.facebook.com/'+user_id+'?fields=hometown&access_token='+token\n",
    "friends='https://graph.facebook.com/'+user_id+'?fields=friends&access_token='+token\n",
    "birthday=\"https://graph.facebook.com/v4.0/\"+user_id+\"?fields=birthday&access_token=\"+token\n",
    "gender=\"https://graph.facebook.com/v4.0/\"+user_id+\"?fields=gender&access_token=\"+token"
   ]
  },
  {
   "cell_type": "code",
   "execution_count": 161,
   "metadata": {},
   "outputs": [],
   "source": [
    "import requests\n",
    "import json"
   ]
  },
  {
   "cell_type": "code",
   "execution_count": 164,
   "metadata": {},
   "outputs": [],
   "source": [
    "home_town_json=requests.get(home_town)\n",
    "name_json=requests.get(name)\n",
    "friends_json=requests.get(friends)\n",
    "birthday_json=requests.get(birthday)\n",
    "gender_json=requests.get(gender)"
   ]
  },
  {
   "cell_type": "code",
   "execution_count": 165,
   "metadata": {},
   "outputs": [
    {
     "data": {
      "text/plain": [
       "'{\"hometown\":{\"id\":\"112679695409635\",\"name\":\"Halvad\"},\"id\":\"1115679395296991\"}'"
      ]
     },
     "execution_count": 165,
     "metadata": {},
     "output_type": "execute_result"
    }
   ],
   "source": [
    "home_town_json.text"
   ]
  },
  {
   "cell_type": "code",
   "execution_count": 166,
   "metadata": {},
   "outputs": [],
   "source": [
    "home_town_dict=home_town_json.json()\n",
    "name_dict=name_json.json()\n",
    "friends_dict=friends_json.json()\n",
    "birthday_dict=birthday_json.json()\n",
    "gender_dict=gender_json.json()"
   ]
  },
  {
   "cell_type": "code",
   "execution_count": 167,
   "metadata": {},
   "outputs": [],
   "source": [
    "home_town_text=home_town_dict['hometown']['name']\n",
    "name_text=name_dict['name']\n",
    "friends_count=friends_dict['friends']['summary']['total_count']\n",
    "birthday_text=birthday_dict['birthday']\n",
    "gender_text=gender_dict['gender']"
   ]
  },
  {
   "cell_type": "code",
   "execution_count": 168,
   "metadata": {},
   "outputs": [
    {
     "name": "stdout",
     "output_type": "stream",
     "text": [
      "name : Sandip Patel\n",
      "gender : male\n",
      "birthday : 08/27/1999\n",
      "hometown : Halvad\n",
      "No.of friends : 1412\n"
     ]
    }
   ],
   "source": [
    "print(\"name : %s\"%name_text)\n",
    "print(\"gender : %s\"%gender_text)\n",
    "print(\"birthday : %s\"%birthday_text)\n",
    "print(\"hometown : %s\"%home_town_text)\n",
    "print(\"No.of friends : %s\"%friends_count)"
   ]
  },
  {
   "cell_type": "code",
   "execution_count": null,
   "metadata": {},
   "outputs": [],
   "source": []
  }
 ],
 "metadata": {
  "kernelspec": {
   "display_name": "Python 3",
   "language": "python",
   "name": "python3"
  },
  "language_info": {
   "codemirror_mode": {
    "name": "ipython",
    "version": 3
   },
   "file_extension": ".py",
   "mimetype": "text/x-python",
   "name": "python",
   "nbconvert_exporter": "python",
   "pygments_lexer": "ipython3",
   "version": "3.7.3"
  }
 },
 "nbformat": 4,
 "nbformat_minor": 2
}
